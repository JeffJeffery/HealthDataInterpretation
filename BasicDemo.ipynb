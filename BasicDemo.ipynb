{
 "cells": [
  {
   "cell_type": "code",
   "execution_count": 1,
   "metadata": {},
   "outputs": [],
   "source": [
    "import openai\n",
    "from config import OPENAI_API_KEY\n",
    "openai.api_key = OPENAI_API_KEY"
   ]
  },
  {
   "cell_type": "code",
   "execution_count": 2,
   "metadata": {},
   "outputs": [],
   "source": [
    "file=open(\"context.txt\",\"r\")\n",
    "context = \"\".join(file.readlines())"
   ]
  },
  {
   "cell_type": "code",
   "execution_count": 27,
   "metadata": {},
   "outputs": [
    {
     "name": "stdout",
     "output_type": "stream",
     "text": [
      "{\n",
      "  \"role\": \"assistant\",\n",
      "  \"content\": \"A platelet, also known as a thrombocyte, is a type of blood cell that plays a crucial role in blood clotting or coagulation. They are small, colorless fragments that are derived from megakaryocytes in the bone marrow. Platelets are constantly circulating in the bloodstream and become activated whenever there is an injury or damage to a blood vessel. \\n\\nWhen activated, platelets adhere to the damaged blood vessel wall and release substances that form a plug to stop bleeding. They also release chemicals that help recruit other platelets to the site and initiate the formation of a fibrin clot, which further stabilizes the platelet plug. This clotting process is necessary to prevent excessive bleeding and promote wound healing.\\n\\nIn addition to their role in clotting, platelets also contain granules that release various growth factors and cytokines involved in tissue repair and inflammation. They play a role in the immune response and are involved in processes such as inflammation, angiogenesis (formation of new blood vessels), and wound healing.\\n\\nOverall, platelets are essential for maintaining the balance between preventing excessive bleeding and promoting clot formation to ensure proper hemostasis in the body.\"\n",
      "}\n"
     ]
    }
   ],
   "source": [
    "prompt = \"What is a platelet\"\n",
    "\n",
    "def demo():\n",
    "    # Step 1: send the conversation and available functions to GPT\n",
    "    \n",
    "\n",
    "    messages = [{\"role\": \"system\", \"content\": \"You are ChartChat the helpful patient data bot.\"},\n",
    "                {\"role\": \"assistant\", \"content\": context},\n",
    "                {\"role\": \"user\", \"content\": prompt}]\n",
    "    response = openai.ChatCompletion.create(\n",
    "        model=\"gpt-3.5-turbo-16k-0613\",\n",
    "        messages=messages,\n",
    "        frequency_penalty = .08\n",
    "    )\n",
    "    response_message = response[\"choices\"][0][\"message\"]\n",
    "    return response_message\n",
    "response_message = demo()\n",
    "print(response_message)\n",
    "with open('history.txt', 'a') as f:\n",
    "    writeList = ['\\nPrompt: ', prompt, \"\\nContext: \", context, '\\n', \"Response: \", response_message[\"content\"], '\\n']\n",
    "    f.writelines(writeList)\n",
    "f.close()"
   ]
  }
 ],
 "metadata": {
  "kernelspec": {
   "display_name": "Python 3.9 (tensorflow)",
   "language": "python",
   "name": "tensorflow"
  },
  "language_info": {
   "codemirror_mode": {
    "name": "ipython",
    "version": 3
   },
   "file_extension": ".py",
   "mimetype": "text/x-python",
   "name": "python",
   "nbconvert_exporter": "python",
   "pygments_lexer": "ipython3",
   "version": "3.9.12"
  }
 },
 "nbformat": 4,
 "nbformat_minor": 2
}
