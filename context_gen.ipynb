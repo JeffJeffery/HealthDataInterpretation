{
 "cells": [
  {
   "cell_type": "code",
   "execution_count": null,
   "metadata": {},
   "outputs": [],
   "source": [
    "#HbA1c test\n",
    "hba1c_relation = \"The patient's HbA1c is within the normal range\"\n",
    "if hba1c_val < 4.7:\n",
    "    hba1c_relation = \"The patient's HbA1c is lower than normal\"\n",
    "elif hba1c_val > 8.7:\n",
    "    hba1c_relation = \"The patient's HbA1c is higher than normal\"\n",
    "new_context = context + hba1c_relation"
   ]
  },
  {
   "cell_type": "code",
   "execution_count": null,
   "metadata": {},
   "outputs": [],
   "source": [
    "#lipid panel\n",
    "ldl_relation = \"The patient's ldl count is within the normal range\"\n",
    "hdl_relation = \"The patient's hdl count is within the normal range\"\n",
    "tc_relation = \"The patient's total cholesterol is within the normal range\"\n",
    "triglycerides_relation = \"The patient's trygliceride count is within the normal range\"\n",
    "\n",
    "if ldl_val > 130:\n",
    "    ldl_relation = \"The patient's ldl count is greater than the normal range\"\n",
    "\n",
    "if hdl_val < 40:\n",
    "    hdl_relation = \"The patient's hdl count is less than the average range\"\n",
    "\n",
    "if tc_val > 199:\n",
    "    tc_relation = \"The patient's total cholesterol is greater than the normal range\"\n",
    "elif tc_val < 150:\n",
    "    tc_relation = \"The patient's total cholesterol is less than the normal range\"\n",
    "\n",
    "if triglycerides_val >= 150 & triglycerides_val <= 199:\n",
    "    triglycerides_relation = \"The patient's trygliceride count is borderline\"\n",
    "elif triglycerides_val >= 200 & triglycerides_val <= 499:\n",
    "    triglycerides_relation = \"The patient's trygliceride count is high\"\n",
    "elif tryglicerides_val >= 500:\n",
    "    triglycerides_relation = \"The patient's trygliceride count is very high\""
   ]
  }
 ],
 "metadata": {
  "language_info": {
   "name": "python"
  }
 },
 "nbformat": 4,
 "nbformat_minor": 2
}
